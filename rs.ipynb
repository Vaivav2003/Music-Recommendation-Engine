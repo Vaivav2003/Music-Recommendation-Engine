{
 "cells": [
  {
   "cell_type": "code",
   "execution_count": 1,
   "metadata": {},
   "outputs": [],
   "source": [
    "import joblib\n",
    "from sklearn.manifold import TSNE\n",
    "from sklearn.preprocessing import LabelEncoder\n",
    "from sklearn.preprocessing import StandardScaler\n",
    "import pandas as pd\n",
    "import numpy as np\n"
   ]
  },
  {
   "cell_type": "code",
   "execution_count": 2,
   "metadata": {},
   "outputs": [
    {
     "name": "stdout",
     "output_type": "stream",
     "text": [
      "Similar Songs : \n",
      "i believe\n",
      "apopse eida oneiro\n",
      "opm medley: when i met you\n",
      "necessary evil\n",
      "kanugona galano\n",
      "avanee nee pathi\n",
      "ee jagamantha natika\n",
      "thunintha pin\n",
      "after you've gone\n",
      "jezebel\n"
     ]
    }
   ],
   "source": [
    "#  dataset have been clustered and their cluster number have been stored in separate column NOW RECOMMEND SONGS\n",
    "input_song = pd.read_csv(\n",
    "    \"D:\\\\College Study\\\\Practicum\\\\test_data.csv\")\n",
    "track_name = []\n",
    "for i in range(len(input_song)):\n",
    "    track_name.append(input_song[\"track_name\"].iloc[i])\n",
    "input_song = input_song.drop(\n",
    "    columns=[input_song.columns[0], 'lyrics', 'track_name'])\n",
    "\n",
    "data_with_cluster = pd.read_csv(\n",
    "    \"D:\\\\College Study\\\\Practicum\\\\data_with_cluster.csv\")\n",
    "loaded_model = joblib.load('model_filename.pkl')\n",
    "\n",
    "\n",
    "\n",
    "    # Separate numerical features for standard scaling\n",
    "    numerical_features = song.drop(\n",
    "        columns=['artist_name', 'genre', 'topic'])\n",
    "\n",
    "    # Perform standard scaling on numerical features\n",
    "    scaled_numerical_features = standard_scaler.fit_transform(\n",
    "        numerical_features)\n",
    "\n",
    "    # Replace original numerical features with scaled ones\n",
    "    song[numerical_features.columns] = scaled_numerical_features\n",
    "\n",
    "    tsne = TSNE(n_components=2, perplexity=1, n_iter=250, random_state=42)\n",
    "    song = tsne.fit_transform(song)\n",
    "    cluster_number = loaded_model.fit_predict(song)\n",
    "def recommend_songs(song):\n",
    "\n",
    "    encoder = LabelEncoder()\n",
    "    song['artist_name'] = encoder.fit_transform(\n",
    "        song['artist_name'])\n",
    "    song['genre'] = encoder.fit_transform(\n",
    "        song['genre'])\n",
    "    song['topic'] = encoder.fit_transform(\n",
    "        song['topic'])\n",
    "\n",
    "    # Standardizing\n",
    "    standard_scaler = StandardScaler()\n",
    "    similar_songs = []\n",
    "    for i in range(len(data_with_cluster)):\n",
    "        similar = data_with_cluster.iloc[i]\n",
    "        if (similar[\"cluster number\"] == cluster_number.any()):\n",
    "            similar_songs.append(similar[\"track_name\"])\n",
    "        if (len(similar_songs) == 10):\n",
    "            break\n",
    "    return similar_songs\n",
    "\n",
    "\n",
    "print(\"Similar Songs : \")\n",
    "recommeded = recommend_songs(input_song)\n",
    "for song in recommeded:\n",
    "    print(song)\n"
   ]
  },
  {
   "cell_type": "code",
   "execution_count": null,
   "metadata": {},
   "outputs": [],
   "source": []
  }
 ],
 "metadata": {
  "kernelspec": {
   "display_name": "Python 3 (ipykernel)",
   "language": "python",
   "name": "python3"
  },
  "language_info": {
   "codemirror_mode": {
    "name": "ipython",
    "version": 3
   },
   "file_extension": ".py",
   "mimetype": "text/x-python",
   "name": "python",
   "nbconvert_exporter": "python",
   "pygments_lexer": "ipython3",
   "version": "3.12.1"
  }
 },
 "nbformat": 4,
 "nbformat_minor": 4
}
